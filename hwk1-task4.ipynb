{
 "cells": [
  {
   "cell_type": "markdown",
   "metadata": {},
   "source": [
    "# Task 4\n",
    "\n",
    "First, update the following cell to have a link to your Homework 1 GitHub repository:\n",
    "\n",
    "UPDATE THIS LINK:\n",
    "\n",
    "https://github.com/hazelvaq/eds220-hwk-1.git\n",
    "\n",
    "In this task, make at least 5 commits at moments you think are adequate. We'll look at your repo to check commit history. Err on the side of commenting too much for now to get in the habit.\n",
    "\n",
    "Add comments for all your code. Err on the side of commenting too much for now.\n",
    "\n",
    "Comments in each exercise and commits will count towards your grade.\n",
    "\n",
    "This task covers topics we will see on Wednesday Oct. 11. You might want to wait until after that class to solve it.\n",
    "\n",
    "## Acknowledgement\n",
    "This task was adapted from the *Pandas Fundamentals with Earthquake Data* assignment from the e-book [Earth and Environmental Data Science](https://earth-env-data-science.github.io/intro.html)"
   ]
  },
  {
   "cell_type": "markdown",
   "metadata": {},
   "source": [
    "## About the data\n",
    "\n",
    "For this task we are going to use simplified data from the [USGS Earthquakes Database](https://earthquake.usgs.gov/earthquakes/search/). This dataset is in tabular format and has the following columns:\n",
    "\n",
    "- time = date and time of event (all events from 2014)\n",
    "- latitude = decimal degrees [-90,90]\n",
    "- longitude = decimal degrees [-360,360]\n",
    "- depth = depth of the event (km)\n",
    "- mag =  magnitude of event\n",
    "- id = event identifier\n",
    "- place = where the event took place\n",
    "- type = type of event\n",
    "\n",
    "## 1 \n",
    "\n",
    "a. Import pandas (always with standard abbreviation!).\n",
    "\n",
    "b. Use `pd.read_csv()` to import the `earthquake_data.csv` dataset and store it as `raw_eqk` (variable name).\n",
    "\n",
    "c. Look at the head of the dataframe."
   ]
  },
  {
   "cell_type": "code",
   "execution_count": 9,
   "metadata": {
    "tags": [],
    "vscode": {
     "languageId": "python"
    }
   },
   "outputs": [
    {
     "data": {
      "text/plain": [
       "<bound method NDFrame.head of                            time   latitude   longitude   depth   mag  \\\n",
       "0       2014-01-31 23:53:37.000  60.252000 -152.708100   90.20  1.10   \n",
       "1       2014-01-31 23:48:35.452  37.070300 -115.130900    0.00  1.33   \n",
       "2       2014-01-31 23:47:24.000  64.671700 -149.252800    7.10  1.30   \n",
       "3       2014-01-31 23:30:54.000  63.188700 -148.957500   96.50  0.80   \n",
       "4       2014-01-31 23:30:52.210  32.616833 -115.692500   10.59  1.34   \n",
       "...                         ...        ...         ...     ...   ...   \n",
       "120103  2014-12-01 00:10:16.000  60.963900 -146.762900   14.80  3.80   \n",
       "120104  2014-12-01 00:09:39.000  58.869100 -154.415900  108.40  2.40   \n",
       "120105  2014-12-01 00:09:25.350  38.843498 -122.825836    2.37  0.43   \n",
       "120106  2014-12-01 00:05:54.000  65.152100 -148.992000    9.50  0.40   \n",
       "120107  2014-12-01 00:04:05.000  60.227200 -147.024500    2.50  1.60   \n",
       "\n",
       "                id                              place        type  \n",
       "0       ak11155107  26km S of Redoubt Volcano, Alaska  earthquake  \n",
       "1       nn00436847            32km S of Alamo, Nevada  earthquake  \n",
       "2       ak11151142   12km NNW of North Nenana, Alaska  earthquake  \n",
       "3       ak11151135         22km S of Cantwell, Alaska  earthquake  \n",
       "4       ci37171541       10km WNW of Progreso, Mexico  earthquake  \n",
       "...            ...                                ...         ...  \n",
       "120103  ak11453391          29km SW of Valdez, Alaska  earthquake  \n",
       "120104  ak11453395   102km SSE of Old Iliamna, Alaska  earthquake  \n",
       "120105  nc72358451        9km WNW of Cobb, California  earthquake  \n",
       "120106  ak11453390           57km NW of Ester, Alaska  earthquake  \n",
       "120107  ak11453389        78km WSW of Cordova, Alaska  earthquake  \n",
       "\n",
       "[120108 rows x 8 columns]>"
      ]
     },
     "execution_count": 9,
     "metadata": {},
     "output_type": "execute_result"
    }
   ],
   "source": [
    "# import pandas\n",
    "import pandas as pd\n",
    "\n",
    "# import earthquake_data.csv in data folder\n",
    "raw_eqk = pd.read_csv('data/earthquake_data.csv')\n",
    "\n",
    "# head of dataframe\n",
    "raw_eqk.head"
   ]
  },
  {
   "cell_type": "markdown",
   "metadata": {},
   "source": [
    "## 2\n",
    "a. Print the shape of the `raw_eqk` dataframe.\n",
    "\n",
    "b. Print the type of `raw_eqk`'s shape.\n",
    "\n",
    "c. Print *only* the number of rows by accessing it from `raw_eqk`'s shape. HINT: how do you index an element in a tuple?"
   ]
  },
  {
   "cell_type": "code",
   "execution_count": 21,
   "metadata": {
    "tags": [],
    "vscode": {
     "languageId": "python"
    }
   },
   "outputs": [
    {
     "data": {
      "text/plain": [
       "120108"
      ]
     },
     "execution_count": 21,
     "metadata": {},
     "output_type": "execute_result"
    }
   ],
   "source": [
    "# shape of raw_eqk\n",
    "raw_eqk.shape # 120108 rows and 8 columns\n",
    "\n",
    "# type of raw_eqk shape\n",
    "type(raw_eqk) # Data frame\n",
    "\n",
    "# Number of rows\n",
    "raw_eqk.shape[0] # 120108 rows"
   ]
  },
  {
   "cell_type": "markdown",
   "metadata": {},
   "source": [
    "## 3\n",
    "\n",
    "Get the unique values of the type of events."
   ]
  },
  {
   "cell_type": "code",
   "execution_count": 3,
   "metadata": {
    "vscode": {
     "languageId": "python"
    }
   },
   "outputs": [],
   "source": [
    "# unique values of the type of events\n",
    "\n"
   ]
  },
  {
   "cell_type": "markdown",
   "metadata": {},
   "source": [
    "# 4\n",
    "\n",
    "a. Select only earthquake events and store them as `eqk` (variable name)\n",
    "\n",
    "b. Update the index of `eqk` to be the `id` column of the dataframe. \n",
    "\n",
    "c. Check the new index by viewing the first 3 rows of `eqk`."
   ]
  },
  {
   "cell_type": "code",
   "execution_count": 4,
   "metadata": {
    "vscode": {
     "languageId": "python"
    }
   },
   "outputs": [],
   "source": [
    "# solve exercise here"
   ]
  },
  {
   "cell_type": "markdown",
   "metadata": {},
   "source": [
    "# 5\n",
    "\n",
    "How many events were left out of `raw_eqk` when you selected ony earthqake events? \n",
    "\n",
    "HINT: There are *many* ways you can get this information. One could be to use (2)."
   ]
  },
  {
   "cell_type": "code",
   "execution_count": 5,
   "metadata": {
    "vscode": {
     "languageId": "python"
    }
   },
   "outputs": [],
   "source": [
    "# solve exercise here"
   ]
  },
  {
   "cell_type": "markdown",
   "metadata": {},
   "source": [
    "# 6\n",
    "Without creating any new variables, plot a histogram of the eartquake's magnitudes (`eqk` data). Add a title and change the color of your graph."
   ]
  },
  {
   "cell_type": "code",
   "execution_count": 6,
   "metadata": {
    "vscode": {
     "languageId": "python"
    }
   },
   "outputs": [],
   "source": [
    "# solve exercise here"
   ]
  },
  {
   "cell_type": "markdown",
   "metadata": {},
   "source": [
    "# 7\n",
    "\n",
    "a. Create a new variable `top20` with the 20 earthquakes with largest magnitude. HINT: [`pandas.Series.nlargest`](https://pandas.pydata.org/docs/reference/api/pandas.Series.nlargest.html)\n",
    "\n",
    "b. Create a bar plot showing the magnitude of the top 20 earthquakes. Update the title, x-axis label, y-axis label, and color of the bars. \n",
    "\n",
    "c. What is the role of the `top20` index in the graph? What would have happened if we had not updated the index?"
   ]
  },
  {
   "cell_type": "code",
   "execution_count": 7,
   "metadata": {
    "vscode": {
     "languageId": "python"
    }
   },
   "outputs": [],
   "source": [
    "# solve exercise here"
   ]
  },
  {
   "cell_type": "markdown",
   "metadata": {},
   "source": [
    "*Write your answer for 7c here*"
   ]
  },
  {
   "cell_type": "markdown",
   "metadata": {},
   "source": [
    "# 8 \n",
    "We are interested in place, magnitude and depth of the top 20 earthquakes with largest magnitude. Select this data from the `eqk` data frame.\n",
    "\n",
    "HINT: This is a \"select rows and columns simultaneously\" from `eqk` exercise. To select the rows you could use the index of `top20`."
   ]
  },
  {
   "cell_type": "code",
   "execution_count": 8,
   "metadata": {
    "vscode": {
     "languageId": "python"
    }
   },
   "outputs": [],
   "source": [
    "# solve exercise here"
   ]
  },
  {
   "cell_type": "markdown",
   "metadata": {},
   "source": [
    "# 9 \n",
    "\n",
    "Without creating any new variables, visualize the locations of eartquakes with magnitude greter than 5 by creating a scatter plot of their latitude and longitude. Make the following adjustments to the basic plot:\n",
    "- update the title\n",
    "- color the points by magnitude (HINT: [check the `c` parameter here](https://pandas.pydata.org/pandas-docs/stable/reference/api/pandas.DataFrame.plot.scatter.html))\n",
    "- adjust the `alpha` (transparency) argument\n",
    "- adjust the `colormap` argument to maket it look prettier. [Click for ideas of sequential colormaps.](https://matplotlib.org/stable/users/explain/colors/colormaps.html)\n"
   ]
  },
  {
   "cell_type": "code",
   "execution_count": 9,
   "metadata": {
    "vscode": {
     "languageId": "python"
    }
   },
   "outputs": [],
   "source": [
    "# solve exercise here"
   ]
  }
 ],
 "metadata": {
  "kernelspec": {
   "display_name": "Anaconda 3 (Base)",
   "language": "python",
   "name": "base"
  },
  "language_info": {
   "codemirror_mode": {
    "name": "ipython",
    "version": 3
   },
   "file_extension": ".py",
   "mimetype": "text/x-python",
   "name": "python",
   "nbconvert_exporter": "python",
   "pygments_lexer": "ipython3",
   "version": "3.9.13"
  }
 },
 "nbformat": 4,
 "nbformat_minor": 4
}
